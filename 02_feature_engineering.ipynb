{
 "cells": [
  {
   "cell_type": "code",
   "execution_count": 56,
   "metadata": {
    "collapsed": false
   },
   "outputs": [
    {
     "name": "stdout",
     "output_type": "stream",
     "text": [
      "Populating the interactive namespace from numpy and matplotlib\n"
     ]
    },
    {
     "name": "stderr",
     "output_type": "stream",
     "text": [
      "WARNING: pylab import has clobbered these variables: ['e']\n",
      "`%matplotlib` prevents importing * from pylab and numpy\n"
     ]
    }
   ],
   "source": [
    "import pandas as pd\n",
    "import numpy as np\n",
    "from pandas import DataFrame, Series\n",
    "import matplotlib.pyplot as plt\n",
    "from pylab import rcParams\n",
    "%pylab inline\n",
    "rcParams['figure.figsize'] = 12, 6"
   ]
  },
  {
   "cell_type": "code",
   "execution_count": 57,
   "metadata": {
    "collapsed": false
   },
   "outputs": [],
   "source": [
    "tr = pd.read_csv('input/train.csv')"
   ]
  },
  {
   "cell_type": "code",
   "execution_count": 58,
   "metadata": {
    "collapsed": false
   },
   "outputs": [],
   "source": [
    "te = pd.read_csv('input/test.csv')\n",
    "te['TripType'] = 0"
   ]
  },
  {
   "cell_type": "code",
   "execution_count": 59,
   "metadata": {
    "collapsed": false
   },
   "outputs": [
    {
     "name": "stdout",
     "output_type": "stream",
     "text": [
      "<class 'pandas.core.frame.DataFrame'>\n",
      "Int64Index: 1300700 entries, 0 to 653645\n",
      "Data columns (total 5 columns):\n",
      "DepartmentDescription    1298011 non-null object\n",
      "ScanCount                1300700 non-null int64\n",
      "TripType                 1300700 non-null int64\n",
      "VisitNumber              1300700 non-null int64\n",
      "Weekday                  1300700 non-null object\n",
      "dtypes: int64(3), object(2)\n",
      "memory usage: 59.5+ MB\n"
     ]
    }
   ],
   "source": [
    "d = pd.concat([tr, te])\n",
    "d.TripType = d.TripType.astype(int)\n",
    "del d['FinelineNumber']\n",
    "del d['Upc']\n",
    "d.info()"
   ]
  },
  {
   "cell_type": "code",
   "execution_count": 60,
   "metadata": {
    "collapsed": false
   },
   "outputs": [],
   "source": [
    "e = pd.get_dummies(d, columns=['DepartmentDescription', 'Weekday', 'TripType'], dummy_na=True)\n",
    "e['Weekday'] = d.Weekday\n",
    "e['TripType'] = d.TripType\n",
    "#e.info()"
   ]
  },
  {
   "cell_type": "code",
   "execution_count": 61,
   "metadata": {
    "collapsed": false
   },
   "outputs": [],
   "source": [
    "def sanitize(s):\n",
    "    ret = s.replace(',', '').replace('&', 'AND').replace('/', ' ').replace(' ', '_')\n",
    "    ret = ret.split('.')[0]\n",
    "    return ret\n",
    "e.columns = [sanitize(c) for c in e.columns]"
   ]
  },
  {
   "cell_type": "code",
   "execution_count": null,
   "metadata": {
    "collapsed": false
   },
   "outputs": [],
   "source": [
    "for c in e.columns:\n",
    "    if c.startswith('DepartmentDescription_'):\n",
    "        e[c] = e.ScanCount * e[c]"
   ]
  },
  {
   "cell_type": "code",
   "execution_count": null,
   "metadata": {
    "collapsed": false
   },
   "outputs": [],
   "source": [
    "def agg_visit(g):\n",
    "    scp = int(g[g.ScanCount > 0].ScanCount.sum())\n",
    "    scn = -int(g[g.ScanCount < 0].ScanCount.sum())\n",
    "    sc = scp + scn\n",
    "    ret = DataFrame({\n",
    "            'ScanCountPos': [scp],\n",
    "            'ScanCountNeg': [scn],\n",
    "            'ScanCountPosRatio': [1.0*scp/sc],\n",
    "            'ScanCountNegRatio': [1.0*scn/sc],\n",
    "            'TripType': [int(g.TripType.min())],\n",
    "            'Weekday': [g.Weekday.min()]\n",
    "        })\n",
    "    for c in g.columns:\n",
    "        if c.startswith('DepartmentDescription_'):\n",
    "            ret[c] = g[c].sum() / sc\n",
    "    for c in g.columns:\n",
    "        if c.startswith('Weekday_'):\n",
    "            ret[c] = [int(g[c].min())]\n",
    "    for c in g.columns:\n",
    "        if c.startswith('TripType_'):\n",
    "            ret[c] = [int(g[c].min())]\n",
    "    return ret\n",
    "g = e.groupby(by=['VisitNumber'])\n",
    "h = g.apply(agg_visit)\n",
    "h['VisitNumber'] = h.index.get_level_values(0)"
   ]
  },
  {
   "cell_type": "code",
   "execution_count": null,
   "metadata": {
    "collapsed": false
   },
   "outputs": [],
   "source": [
    "#h[:10].T"
   ]
  },
  {
   "cell_type": "code",
   "execution_count": null,
   "metadata": {
    "collapsed": false
   },
   "outputs": [],
   "source": [
    "h.to_csv('tmp/engineered_features_01.csv', index=False)"
   ]
  }
 ],
 "metadata": {
  "kernelspec": {
   "display_name": "Python 2",
   "language": "python",
   "name": "python2"
  },
  "language_info": {
   "codemirror_mode": {
    "name": "ipython",
    "version": 2
   },
   "file_extension": ".py",
   "mimetype": "text/x-python",
   "name": "python",
   "nbconvert_exporter": "python",
   "pygments_lexer": "ipython2",
   "version": "2.7.10"
  }
 },
 "nbformat": 4,
 "nbformat_minor": 0
}
