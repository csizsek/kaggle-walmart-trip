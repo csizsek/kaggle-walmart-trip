{
 "cells": [
  {
   "cell_type": "code",
   "execution_count": null,
   "metadata": {
    "collapsed": false
   },
   "outputs": [],
   "source": [
    "import pandas as pd\n",
    "import numpy as np\n",
    "from pandas import DataFrame, Series\n",
    "import matplotlib.pyplot as plt\n",
    "from pylab import rcParams\n",
    "%pylab inline\n",
    "rcParams['figure.figsize'] = 12, 6"
   ]
  },
  {
   "cell_type": "code",
   "execution_count": null,
   "metadata": {
    "collapsed": false
   },
   "outputs": [],
   "source": [
    "tr = pd.read_csv('input/train.csv')"
   ]
  },
  {
   "cell_type": "code",
   "execution_count": null,
   "metadata": {
    "collapsed": false
   },
   "outputs": [],
   "source": [
    "te = pd.read_csv('input/test.csv')\n",
    "te['TripType'] = 0"
   ]
  },
  {
   "cell_type": "code",
   "execution_count": null,
   "metadata": {
    "collapsed": false
   },
   "outputs": [],
   "source": [
    "d = pd.concat([tr, te])\n",
    "d.TripType = d.TripType.astype(int)\n",
    "del d['FinelineNumber']\n",
    "del d['Upc']"
   ]
  },
  {
   "cell_type": "code",
   "execution_count": null,
   "metadata": {
    "collapsed": false
   },
   "outputs": [],
   "source": [
    "e = pd.get_dummies(d, columns=['DepartmentDescription', 'Weekday', 'TripType'], dummy_na=True)\n",
    "e['Weekday'] = d.Weekday\n",
    "e['TripType'] = d.TripType\n",
    "#e.info()"
   ]
  },
  {
   "cell_type": "code",
   "execution_count": null,
   "metadata": {
    "collapsed": false
   },
   "outputs": [],
   "source": [
    "def sanitize(s):\n",
    "    ret = s.replace(',', '').replace('&', 'AND').replace('/', ' ').replace(' ', '_')\n",
    "    ret = ret.split('.')[0]\n",
    "    return ret\n",
    "e.columns = [sanitize(c) for c in e.columns]"
   ]
  },
  {
   "cell_type": "code",
   "execution_count": null,
   "metadata": {
    "collapsed": false
   },
   "outputs": [],
   "source": [
    "for c in e.columns:\n",
    "    if c.startswith('DepartmentDescription_'):\n",
    "        e[c] = e.ScanCount * e[c]"
   ]
  },
  {
   "cell_type": "code",
   "execution_count": null,
   "metadata": {
    "collapsed": false
   },
   "outputs": [],
   "source": [
    "def agg_visit(g):\n",
    "    vn = int(g.VisitNumber.min())\n",
    "    if vn % 10000 == 1:\n",
    "        print vn\n",
    "    scp = int(g[g.ScanCount > 0].ScanCount.sum())\n",
    "    scn = -int(g[g.ScanCount < 0].ScanCount.sum())\n",
    "    sc = scp + scn\n",
    "    ret = DataFrame({\n",
    "            'ScanCountPos': [scp],\n",
    "            'ScanCountNeg': [scn],\n",
    "            'ScanCountPosRatio': [1.0*scp/sc],\n",
    "            'ScanCountNegRatio': [1.0*scn/sc],\n",
    "            'TripType': [int(g.TripType.min())],\n",
    "            'Weekday': [g.Weekday.min()]\n",
    "        })\n",
    "    for c in g.columns:\n",
    "        if c.startswith('DepartmentDescription_'):\n",
    "            ret[c + \"_count\"] = g[c].sum()\n",
    "            ret[c + \"_ratio\"] = g[c].sum() / sc\n",
    "    for c in g.columns:\n",
    "        if c.startswith('Weekday_'):\n",
    "            ret[c] = [int(g[c].min())]\n",
    "    for c in g.columns:\n",
    "        if c.startswith('TripType_'):\n",
    "            ret[c] = [int(g[c].min())]\n",
    "    return ret\n",
    "g = e.groupby(by=['VisitNumber'])\n",
    "h = g.apply(agg_visit)\n",
    "h['VisitNumber'] = h.index.get_level_values(0)"
   ]
  },
  {
   "cell_type": "code",
   "execution_count": null,
   "metadata": {
    "collapsed": true
   },
   "outputs": [],
   "source": [
    "del h['TripType_nan']"
   ]
  },
  {
   "cell_type": "code",
   "execution_count": null,
   "metadata": {
    "collapsed": false
   },
   "outputs": [],
   "source": [
    "h.to_csv('tmp/features_02.csv', index=False)"
   ]
  }
 ],
 "metadata": {
  "kernelspec": {
   "display_name": "Python 2",
   "language": "python",
   "name": "python2"
  },
  "language_info": {
   "codemirror_mode": {
    "name": "ipython",
    "version": 2
   },
   "file_extension": ".py",
   "mimetype": "text/x-python",
   "name": "python",
   "nbconvert_exporter": "python",
   "pygments_lexer": "ipython2",
   "version": "2.7.10"
  }
 },
 "nbformat": 4,
 "nbformat_minor": 0
}
