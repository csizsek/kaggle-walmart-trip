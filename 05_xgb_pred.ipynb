{
 "cells": [
  {
   "cell_type": "code",
   "execution_count": 1,
   "metadata": {
    "collapsed": false
   },
   "outputs": [
    {
     "name": "stdout",
     "output_type": "stream",
     "text": [
      "Populating the interactive namespace from numpy and matplotlib\n"
     ]
    }
   ],
   "source": [
    "import pandas as pd\n",
    "import numpy as np\n",
    "from pandas import DataFrame, Series\n",
    "import matplotlib.pyplot as plt\n",
    "from pylab import rcParams\n",
    "%pylab inline\n",
    "rcParams['figure.figsize'] = 12, 6\n",
    "from xgboost import XGBClassifier\n",
    "from sklearn.metrics import roc_auc_score\n",
    "from sklearn.grid_search import GridSearchCV"
   ]
  },
  {
   "cell_type": "code",
   "execution_count": 2,
   "metadata": {
    "collapsed": true
   },
   "outputs": [],
   "source": [
    "d = pd.read_csv('tmp/features_02.csv')\n",
    "del d['TripType']\n",
    "del d['Weekday']\n",
    "del d['Weekday_nan']\n",
    "dtr = d[d.TripType_0 == 0]\n",
    "dte = d[d.TripType_0 == 1]\n",
    "tr = DataFrame({'VisitNumber': dtr.VisitNumber})\n",
    "trl = DataFrame({'VisitNumber': dtr.VisitNumber})\n",
    "te = DataFrame({'VisitNumber': dte.VisitNumber})\n",
    "for c in d.columns:\n",
    "    if (c.startswith('ScanCount') or\n",
    "        c.startswith('DepartmentDescription') or\n",
    "        c.startswith('Weekday')):\n",
    "        tr[c] = dtr[c]\n",
    "        te[c] = dte[c]\n",
    "    if c.startswith('TripType'):\n",
    "        trl[c] = dtr[c]\n",
    "del trl['TripType_0']"
   ]
  },
  {
   "cell_type": "code",
   "execution_count": 3,
   "metadata": {
    "collapsed": false
   },
   "outputs": [
    {
     "name": "stdout",
     "output_type": "stream",
     "text": [
      "TripType_3\n",
      "TripType_4\n",
      "TripType_5\n",
      "TripType_6\n",
      "TripType_7\n",
      "TripType_8\n",
      "TripType_9\n",
      "TripType_12\n",
      "TripType_14\n",
      "TripType_15\n",
      "TripType_18\n",
      "TripType_19\n",
      "TripType_20\n",
      "TripType_21\n",
      "TripType_22\n",
      "TripType_23\n",
      "TripType_24\n",
      "TripType_25\n",
      "TripType_26\n",
      "TripType_27\n",
      "TripType_28\n",
      "TripType_29\n",
      "TripType_30\n",
      "TripType_31\n",
      "TripType_32\n",
      "TripType_33\n",
      "TripType_34\n",
      "TripType_35\n",
      "TripType_36\n",
      "TripType_37\n",
      "TripType_38\n",
      "TripType_39\n",
      "TripType_40\n",
      "TripType_41\n",
      "TripType_42\n",
      "TripType_43\n",
      "TripType_44\n",
      "TripType_999\n"
     ]
    }
   ],
   "source": [
    "pred = DataFrame({'VisitNumber': te.VisitNumber})\n",
    "for c in trl.columns:\n",
    "    if c.startswith('TripType'):\n",
    "        print c\n",
    "        m = XGBClassifier(\n",
    "            objective='binary:logistic',\n",
    "            n_estimators=200,\n",
    "            max_depth=4,\n",
    "            min_child_weight=4,\n",
    "            learning_rate=0.03,\n",
    "            nthread=4)\n",
    "        m.fit(tr, trl[c])\n",
    "        p = m.predict_proba(te)[:,1]\n",
    "        pred[c] = p"
   ]
  },
  {
   "cell_type": "code",
   "execution_count": 4,
   "metadata": {
    "collapsed": true
   },
   "outputs": [],
   "source": [
    "pred.to_csv('output/xgb_03_raw.csv', index=False)"
   ]
  },
  {
   "cell_type": "code",
   "execution_count": 5,
   "metadata": {
    "collapsed": true
   },
   "outputs": [],
   "source": [
    "def foo(row):\n",
    "    x = row.max()\n",
    "    q = row.quantile(0.9)\n",
    "    row[row < x] = 0\n",
    "    return row"
   ]
  },
  {
   "cell_type": "code",
   "execution_count": 6,
   "metadata": {
    "collapsed": true
   },
   "outputs": [],
   "source": [
    "pred2 = pred.copy()\n",
    "vn = pred2.VisitNumber\n",
    "del pred2['VisitNumber']\n",
    "pred2 = pred2.apply(foo, axis=1)\n",
    "pred2['VisitNumber'] = vn"
   ]
  },
  {
   "cell_type": "code",
   "execution_count": 7,
   "metadata": {
    "collapsed": true
   },
   "outputs": [],
   "source": [
    "pred2.to_csv('output/xgb_03.csv', index=False)"
   ]
  }
 ],
 "metadata": {
  "kernelspec": {
   "display_name": "Python 2",
   "language": "python",
   "name": "python2"
  },
  "language_info": {
   "codemirror_mode": {
    "name": "ipython",
    "version": 2
   },
   "file_extension": ".py",
   "mimetype": "text/x-python",
   "name": "python",
   "nbconvert_exporter": "python",
   "pygments_lexer": "ipython2",
   "version": "2.7.10"
  }
 },
 "nbformat": 4,
 "nbformat_minor": 0
}
