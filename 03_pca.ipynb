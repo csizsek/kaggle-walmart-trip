{
 "cells": [
  {
   "cell_type": "code",
   "execution_count": 1,
   "metadata": {
    "collapsed": false
   },
   "outputs": [
    {
     "name": "stdout",
     "output_type": "stream",
     "text": [
      "Populating the interactive namespace from numpy and matplotlib\n"
     ]
    }
   ],
   "source": [
    "import pandas as pd\n",
    "import numpy as np\n",
    "from pandas import DataFrame, Series\n",
    "import matplotlib.pyplot as plt\n",
    "from pylab import rcParams\n",
    "%pylab inline\n",
    "rcParams['figure.figsize'] = 12, 6\n",
    "from sklearn.decomposition import PCA\n",
    "from sklearn.preprocessing import scale"
   ]
  },
  {
   "cell_type": "code",
   "execution_count": 2,
   "metadata": {
    "collapsed": false
   },
   "outputs": [],
   "source": [
    "d = pd.read_csv('tmp/features_02.csv')"
   ]
  },
  {
   "cell_type": "code",
   "execution_count": 3,
   "metadata": {
    "collapsed": false
   },
   "outputs": [],
   "source": [
    "e = DataFrame({'VisitNumber': d.VisitNumber})\n",
    "for c in d.columns:\n",
    "    if c.startswith('DepartmentDescription_'):\n",
    "        e[c] = d[c]\n",
    "    if c.startswith('Weekday_'):\n",
    "        e[c] = d[c].astype(float)\n",
    "    if c.startswith('ScanCount'):\n",
    "        e[c] = d[c].astype(float)\n",
    "del e['VisitNumber']"
   ]
  },
  {
   "cell_type": "code",
   "execution_count": 4,
   "metadata": {
    "collapsed": true
   },
   "outputs": [],
   "source": [
    "N_COMPONENTS = [10, 20, 30, 50]"
   ]
  },
  {
   "cell_type": "code",
   "execution_count": 8,
   "metadata": {
    "collapsed": false
   },
   "outputs": [],
   "source": [
    "for n in N_COMPONENTS:\n",
    "    f = e.copy()\n",
    "    pca = PCA(n_components=n)\n",
    "    f = pca.fit_transform(f)\n",
    "    #print pca.explained_variance_ratio_\n",
    "    g = scale(f)\n",
    "    h = DataFrame(data=g, columns=[('pc_'+str(i)) for i in range(1, n+1)])\n",
    "    h['VisitNumber'] = d.VisitNumber\n",
    "    for c in d.columns:\n",
    "        if c.startswith('Trip'):\n",
    "            h[c] = d[c]\n",
    "    h.to_csv('tmp/pca{0}_02.csv'.format(n), index=False)"
   ]
  }
 ],
 "metadata": {
  "kernelspec": {
   "display_name": "Python 2",
   "language": "python",
   "name": "python2"
  },
  "language_info": {
   "codemirror_mode": {
    "name": "ipython",
    "version": 2
   },
   "file_extension": ".py",
   "mimetype": "text/x-python",
   "name": "python",
   "nbconvert_exporter": "python",
   "pygments_lexer": "ipython2",
   "version": "2.7.10"
  }
 },
 "nbformat": 4,
 "nbformat_minor": 0
}
