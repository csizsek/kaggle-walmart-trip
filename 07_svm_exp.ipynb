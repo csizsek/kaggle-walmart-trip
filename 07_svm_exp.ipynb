{
 "cells": [
  {
   "cell_type": "code",
   "execution_count": 5,
   "metadata": {
    "collapsed": false
   },
   "outputs": [
    {
     "name": "stdout",
     "output_type": "stream",
     "text": [
      "Populating the interactive namespace from numpy and matplotlib\n"
     ]
    }
   ],
   "source": [
    "import pandas as pd\n",
    "import numpy as np\n",
    "from pandas import DataFrame, Series\n",
    "import matplotlib.pyplot as plt\n",
    "from pylab import rcParams\n",
    "%pylab inline\n",
    "rcParams['figure.figsize'] = 12, 6\n",
    "from xgboost import XGBClassifier\n",
    "from sklearn.metrics import roc_auc_score\n",
    "from sklearn.grid_search import GridSearchCV\n",
    "from sklearn.neighbors import KNeighborsClassifier\n",
    "from sklearn.svm import SVC"
   ]
  },
  {
   "cell_type": "code",
   "execution_count": 6,
   "metadata": {
    "collapsed": true
   },
   "outputs": [],
   "source": [
    "d = pd.read_csv('tmp/pca_scale_15.csv')\n",
    "d = d[d.TripType_0 == 0]\n",
    "del d['TripType_nan']\n",
    "lim = int(0.4 * len(d))\n",
    "dtr = d[:lim]\n",
    "dho = d[lim:]\n",
    "tr = DataFrame({'VisitNumber': dtr.VisitNumber})\n",
    "trl = DataFrame({'VisitNumber': dtr.VisitNumber})\n",
    "ho = DataFrame({'VisitNumber': dho.VisitNumber})\n",
    "hol = DataFrame({'VisitNumber': dho.VisitNumber})\n",
    "for c in d.columns:\n",
    "    if c.startswith('pc_'):\n",
    "        tr[c] = dtr[c]\n",
    "        ho[c] = dho[c]\n",
    "    if c.startswith('TripType'):\n",
    "        trl[c] = dtr[c]\n",
    "        hol[c] = dho[c]\n",
    "del trl['TripType']\n",
    "del trl['TripType_0']\n",
    "del hol['TripType']\n",
    "del hol['TripType_0']"
   ]
  },
  {
   "cell_type": "code",
   "execution_count": 7,
   "metadata": {
    "collapsed": true
   },
   "outputs": [],
   "source": [
    "def eval_model(m, target):\n",
    "    m.fit(tr, trl[target])\n",
    "    p = m.predict_proba(ho)[:,1]\n",
    "    return roc_auc_score(hol[target], p)"
   ]
  },
  {
   "cell_type": "code",
   "execution_count": 8,
   "metadata": {
    "collapsed": false
   },
   "outputs": [
    {
     "data": {
      "text/plain": [
       "0.5003044922567218"
      ]
     },
     "execution_count": 8,
     "metadata": {},
     "output_type": "execute_result"
    }
   ],
   "source": [
    "eval_model(m=SVC(\n",
    "    C=1.0,\n",
    "    kernel='rbf',\n",
    "    degree=3,\n",
    "    probability=True\n",
    "    ),\n",
    "    target='TripType_3')"
   ]
  }
 ],
 "metadata": {
  "kernelspec": {
   "display_name": "Python 2",
   "language": "python",
   "name": "python2"
  },
  "language_info": {
   "codemirror_mode": {
    "name": "ipython",
    "version": 2
   },
   "file_extension": ".py",
   "mimetype": "text/x-python",
   "name": "python",
   "nbconvert_exporter": "python",
   "pygments_lexer": "ipython2",
   "version": "2.7.10"
  }
 },
 "nbformat": 4,
 "nbformat_minor": 0
}
