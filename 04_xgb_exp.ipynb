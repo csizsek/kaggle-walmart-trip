{
 "cells": [
  {
   "cell_type": "code",
   "execution_count": 1,
   "metadata": {
    "collapsed": false
   },
   "outputs": [
    {
     "name": "stdout",
     "output_type": "stream",
     "text": [
      "Populating the interactive namespace from numpy and matplotlib\n"
     ]
    }
   ],
   "source": [
    "import pandas as pd\n",
    "import numpy as np\n",
    "from pandas import DataFrame, Series\n",
    "import matplotlib.pyplot as plt\n",
    "from pylab import rcParams\n",
    "%pylab inline\n",
    "rcParams['figure.figsize'] = 12, 6\n",
    "from xgboost import XGBClassifier\n",
    "from sklearn.metrics import roc_auc_score\n",
    "from sklearn.grid_search import GridSearchCV"
   ]
  },
  {
   "cell_type": "code",
   "execution_count": 10,
   "metadata": {
    "collapsed": false
   },
   "outputs": [],
   "source": [
    "d = pd.read_csv('tmp/features_02.csv')\n",
    "d = d[d.TripType_0 == 0]\n",
    "del d['TripType']\n",
    "del d['Weekday']\n",
    "del d['Weekday_nan']\n",
    "lim = int(0.7 * len(d))\n",
    "dtr = d[:lim]\n",
    "dho = d[lim:]\n",
    "tr = DataFrame({'VisitNumber': dtr.VisitNumber})\n",
    "trl = DataFrame({'VisitNumber': dtr.VisitNumber})\n",
    "ho = DataFrame({'VisitNumber': dho.VisitNumber})\n",
    "hol = DataFrame({'VisitNumber': dho.VisitNumber})\n",
    "for c in d.columns:\n",
    "    if (c.startswith('ScanCount') or\n",
    "        c.startswith('DepartmentDescription') or\n",
    "        c.startswith('Weekday')):\n",
    "        tr[c] = dtr[c]\n",
    "        ho[c] = dho[c]\n",
    "    if c.startswith('TripType'):\n",
    "        trl[c] = dtr[c]\n",
    "        hol[c] = dho[c]\n",
    "del trl['TripType_0']\n",
    "del hol['TripType_0']"
   ]
  },
  {
   "cell_type": "code",
   "execution_count": 13,
   "metadata": {
    "collapsed": false
   },
   "outputs": [
    {
     "data": {
      "text/plain": [
       "VisitNumber    4486048960\n",
       "TripType_3           2733\n",
       "TripType_4            272\n",
       "TripType_5           3275\n",
       "TripType_6            880\n",
       "TripType_7           4002\n",
       "TripType_8           8557\n",
       "TripType_9           6644\n",
       "TripType_12            85\n",
       "TripType_14             4\n",
       "dtype: int64"
      ]
     },
     "execution_count": 13,
     "metadata": {},
     "output_type": "execute_result"
    }
   ],
   "source": [
    "trl.sum()[:10]"
   ]
  },
  {
   "cell_type": "code",
   "execution_count": 19,
   "metadata": {
    "collapsed": false
   },
   "outputs": [
    {
     "name": "stdout",
     "output_type": "stream",
     "text": [
      "0.992593809261\n",
      "{'learning_rate': 0.03, 'nthread': 4, 'min_child_weight': 4, 'n_estimators': 80, 'objective': 'binary:logistic', 'max_depth': 5}\n"
     ]
    }
   ],
   "source": [
    "target = 'TripType_6'\n",
    "param_grid = {\n",
    "    'n_estimators': [70, 80, 100],\n",
    "    'max_depth': [4, 5, 6],\n",
    "    'min_child_weight': [4, 5, 6],\n",
    "    'learning_rate': [0.02, 0.03, 0.04],\n",
    "    'objective': ['binary:logistic'],\n",
    "    'nthread': [4]\n",
    "}\n",
    "xgb = XGBClassifier()\n",
    "m = GridSearchCV(\n",
    "    estimator=xgb,\n",
    "    param_grid=param_grid,\n",
    "    cv=3)\n",
    "m.fit(tr, trl[target])\n",
    "print m.best_score_\n",
    "print m.best_params_"
   ]
  },
  {
   "cell_type": "code",
   "execution_count": 20,
   "metadata": {
    "collapsed": true
   },
   "outputs": [],
   "source": [
    "def eval_model(m, target):\n",
    "    m.fit(tr, trl[target])\n",
    "    p = m.predict_proba(ho)[:,1]\n",
    "    return roc_auc_score(hol[target], p)"
   ]
  },
  {
   "cell_type": "code",
   "execution_count": 41,
   "metadata": {
    "collapsed": false
   },
   "outputs": [
    {
     "data": {
      "text/plain": [
       "0.99563266582659948"
      ]
     },
     "execution_count": 41,
     "metadata": {},
     "output_type": "execute_result"
    }
   ],
   "source": [
    "eval_model(XGBClassifier(\n",
    "    objective='binary:logistic',\n",
    "    n_estimators=200,\n",
    "    max_depth=4,\n",
    "    min_child_weight=4,\n",
    "    learning_rate=0.03,\n",
    "    nthread=4\n",
    "    ),\n",
    "    target='TripType_3')"
   ]
  },
  {
   "cell_type": "code",
   "execution_count": 62,
   "metadata": {
    "collapsed": false
   },
   "outputs": [],
   "source": [
    "pred = DataFrame({'VisitNumber': hol.VisitNumber})\n",
    "for c in hol.columns:\n",
    "    if c.startswith('TripType'):\n",
    "        #print c\n",
    "        m = XGBClassifier(\n",
    "            objective='binary:logistic',\n",
    "            n_estimators=80,\n",
    "            max_depth=5,\n",
    "            min_child_weight=4,\n",
    "            learning_rate=0.03,\n",
    "            nthread=4)\n",
    "        m.fit(tr, trl[c])\n",
    "        p = m.predict_proba(ho)[:,1]\n",
    "        pred[c] = p"
   ]
  },
  {
   "cell_type": "code",
   "execution_count": 64,
   "metadata": {
    "collapsed": true
   },
   "outputs": [],
   "source": [
    "def foo(row):\n",
    "    x = row.max()\n",
    "    q = row.quantile(0.9)\n",
    "    row[row < x] = 0\n",
    "    return row"
   ]
  },
  {
   "cell_type": "code",
   "execution_count": 72,
   "metadata": {
    "collapsed": false
   },
   "outputs": [
    {
     "data": {
      "text/plain": [
       "19431.0"
      ]
     },
     "execution_count": 72,
     "metadata": {},
     "output_type": "execute_result"
    }
   ],
   "source": [
    "pred2 = pred.copy()\n",
    "vn = pred2.VisitNumber\n",
    "del pred2['VisitNumber']\n",
    "pred2 = pred2.apply(foo, axis=1)\n",
    "y_pred = pred2.copy()\n",
    "y_pred_norm = y_pred.apply(lambda row: (row / row.sum()), axis=1)\n",
    "z = y_true * y_pred_norm\n",
    "z.sum().sum()\n",
    "# z = z.apply(np.log)\n",
    "# z = z.replace([-inf], 0)\n",
    "# print -z.sum().sum()/len(y_true)"
   ]
  },
  {
   "cell_type": "code",
   "execution_count": 71,
   "metadata": {
    "collapsed": false
   },
   "outputs": [
    {
     "name": "stdout",
     "output_type": "stream",
     "text": [
      "8.47486757732\n"
     ]
    }
   ],
   "source": [
    "pred2 = pred.copy()\n",
    "vn = pred2.VisitNumber\n",
    "del pred2['VisitNumber']\n",
    "pred2 = pred2.apply(foo, axis=1)\n",
    "y_true = hol.copy()\n",
    "del y_true['VisitNumber']\n",
    "y_pred = pred2.copy()\n",
    "y_pred_norm = y_pred.div(pred.sum(axis=1), axis=0)\n",
    "z = y_true * y_pred_norm\n",
    "z = z.apply(np.log)\n",
    "z = z.replace([-inf], 0)\n",
    "print -z.sum().sum()/len(y_true)"
   ]
  }
 ],
 "metadata": {
  "kernelspec": {
   "display_name": "Python 2",
   "language": "python",
   "name": "python2"
  },
  "language_info": {
   "codemirror_mode": {
    "name": "ipython",
    "version": 2
   },
   "file_extension": ".py",
   "mimetype": "text/x-python",
   "name": "python",
   "nbconvert_exporter": "python",
   "pygments_lexer": "ipython2",
   "version": "2.7.10"
  }
 },
 "nbformat": 4,
 "nbformat_minor": 0
}
