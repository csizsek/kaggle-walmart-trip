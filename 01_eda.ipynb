{
 "cells": [
  {
   "cell_type": "code",
   "execution_count": 29,
   "metadata": {
    "collapsed": false
   },
   "outputs": [
    {
     "name": "stdout",
     "output_type": "stream",
     "text": [
      "Populating the interactive namespace from numpy and matplotlib\n"
     ]
    }
   ],
   "source": [
    "import pandas as pd\n",
    "import numpy as np\n",
    "from pandas import DataFrame, Series\n",
    "import matplotlib.pyplot as plt\n",
    "from pylab import rcParams\n",
    "%pylab inline\n",
    "rcParams['figure.figsize'] = 12, 6"
   ]
  },
  {
   "cell_type": "code",
   "execution_count": 30,
   "metadata": {
    "collapsed": false
   },
   "outputs": [
    {
     "name": "stdout",
     "output_type": "stream",
     "text": [
      "<class 'pandas.core.frame.DataFrame'>\n",
      "Int64Index: 647054 entries, 0 to 647053\n",
      "Data columns (total 7 columns):\n",
      "TripType                 647054 non-null int64\n",
      "VisitNumber              647054 non-null int64\n",
      "Weekday                  647054 non-null object\n",
      "Upc                      642925 non-null float64\n",
      "ScanCount                647054 non-null int64\n",
      "DepartmentDescription    645693 non-null object\n",
      "FinelineNumber           642925 non-null float64\n",
      "dtypes: float64(2), int64(3), object(2)\n",
      "memory usage: 39.5+ MB\n"
     ]
    }
   ],
   "source": [
    "tr = pd.read_csv('input/train.csv')\n",
    "tr.info()"
   ]
  },
  {
   "cell_type": "code",
   "execution_count": 31,
   "metadata": {
    "collapsed": false
   },
   "outputs": [
    {
     "data": {
      "text/html": [
       "<div>\n",
       "<table border=\"1\" class=\"dataframe\">\n",
       "  <thead>\n",
       "    <tr style=\"text-align: right;\">\n",
       "      <th></th>\n",
       "      <th>TripType</th>\n",
       "      <th>VisitNumber</th>\n",
       "      <th>Weekday</th>\n",
       "      <th>Upc</th>\n",
       "      <th>ScanCount</th>\n",
       "      <th>DepartmentDescription</th>\n",
       "      <th>FinelineNumber</th>\n",
       "    </tr>\n",
       "  </thead>\n",
       "  <tbody>\n",
       "    <tr>\n",
       "      <th>204603</th>\n",
       "      <td>999</td>\n",
       "      <td>60592</td>\n",
       "      <td>Sunday</td>\n",
       "      <td>76132130795</td>\n",
       "      <td>-1</td>\n",
       "      <td>SLEEPWEAR/FOUNDATIONS</td>\n",
       "      <td>4905</td>\n",
       "    </tr>\n",
       "    <tr>\n",
       "      <th>512794</th>\n",
       "      <td>40</td>\n",
       "      <td>151843</td>\n",
       "      <td>Monday</td>\n",
       "      <td>7874239281</td>\n",
       "      <td>1</td>\n",
       "      <td>PHARMACY OTC</td>\n",
       "      <td>256</td>\n",
       "    </tr>\n",
       "    <tr>\n",
       "      <th>395436</th>\n",
       "      <td>999</td>\n",
       "      <td>116830</td>\n",
       "      <td>Tuesday</td>\n",
       "      <td>7301071057</td>\n",
       "      <td>-1</td>\n",
       "      <td>PHARMACY OTC</td>\n",
       "      <td>264</td>\n",
       "    </tr>\n",
       "    <tr>\n",
       "      <th>282487</th>\n",
       "      <td>31</td>\n",
       "      <td>84665</td>\n",
       "      <td>Thursday</td>\n",
       "      <td>61696001310</td>\n",
       "      <td>1</td>\n",
       "      <td>WIRELESS</td>\n",
       "      <td>1165</td>\n",
       "    </tr>\n",
       "    <tr>\n",
       "      <th>136093</th>\n",
       "      <td>40</td>\n",
       "      <td>41032</td>\n",
       "      <td>Thursday</td>\n",
       "      <td>4900001463</td>\n",
       "      <td>1</td>\n",
       "      <td>DSD GROCERY</td>\n",
       "      <td>9538</td>\n",
       "    </tr>\n",
       "    <tr>\n",
       "      <th>437831</th>\n",
       "      <td>25</td>\n",
       "      <td>130384</td>\n",
       "      <td>Thursday</td>\n",
       "      <td>3400010353</td>\n",
       "      <td>1</td>\n",
       "      <td>IMPULSE MERCHANDISE</td>\n",
       "      <td>125</td>\n",
       "    </tr>\n",
       "    <tr>\n",
       "      <th>10484</th>\n",
       "      <td>19</td>\n",
       "      <td>3521</td>\n",
       "      <td>Friday</td>\n",
       "      <td>7466010049</td>\n",
       "      <td>1</td>\n",
       "      <td>AUTOMOTIVE</td>\n",
       "      <td>4035</td>\n",
       "    </tr>\n",
       "    <tr>\n",
       "      <th>232377</th>\n",
       "      <td>36</td>\n",
       "      <td>68547</td>\n",
       "      <td>Monday</td>\n",
       "      <td>3700089370</td>\n",
       "      <td>-1</td>\n",
       "      <td>PHARMACY OTC</td>\n",
       "      <td>2120</td>\n",
       "    </tr>\n",
       "    <tr>\n",
       "      <th>26324</th>\n",
       "      <td>25</td>\n",
       "      <td>8222</td>\n",
       "      <td>Saturday</td>\n",
       "      <td>4740031344</td>\n",
       "      <td>1</td>\n",
       "      <td>PERSONAL CARE</td>\n",
       "      <td>1403</td>\n",
       "    </tr>\n",
       "    <tr>\n",
       "      <th>302217</th>\n",
       "      <td>24</td>\n",
       "      <td>91140</td>\n",
       "      <td>Friday</td>\n",
       "      <td>7047000307</td>\n",
       "      <td>1</td>\n",
       "      <td>DAIRY</td>\n",
       "      <td>1351</td>\n",
       "    </tr>\n",
       "  </tbody>\n",
       "</table>\n",
       "</div>"
      ],
      "text/plain": [
       "        TripType  VisitNumber   Weekday          Upc  ScanCount  \\\n",
       "204603       999        60592    Sunday  76132130795         -1   \n",
       "512794        40       151843    Monday   7874239281          1   \n",
       "395436       999       116830   Tuesday   7301071057         -1   \n",
       "282487        31        84665  Thursday  61696001310          1   \n",
       "136093        40        41032  Thursday   4900001463          1   \n",
       "437831        25       130384  Thursday   3400010353          1   \n",
       "10484         19         3521    Friday   7466010049          1   \n",
       "232377        36        68547    Monday   3700089370         -1   \n",
       "26324         25         8222  Saturday   4740031344          1   \n",
       "302217        24        91140    Friday   7047000307          1   \n",
       "\n",
       "        DepartmentDescription  FinelineNumber  \n",
       "204603  SLEEPWEAR/FOUNDATIONS            4905  \n",
       "512794           PHARMACY OTC             256  \n",
       "395436           PHARMACY OTC             264  \n",
       "282487               WIRELESS            1165  \n",
       "136093            DSD GROCERY            9538  \n",
       "437831    IMPULSE MERCHANDISE             125  \n",
       "10484              AUTOMOTIVE            4035  \n",
       "232377           PHARMACY OTC            2120  \n",
       "26324           PERSONAL CARE            1403  \n",
       "302217                  DAIRY            1351  "
      ]
     },
     "execution_count": 31,
     "metadata": {},
     "output_type": "execute_result"
    }
   ],
   "source": [
    "tr.sample(10)"
   ]
  },
  {
   "cell_type": "code",
   "execution_count": 50,
   "metadata": {
    "collapsed": false
   },
   "outputs": [
    {
     "data": {
      "text/plain": [
       "38"
      ]
     },
     "execution_count": 50,
     "metadata": {},
     "output_type": "execute_result"
    }
   ],
   "source": [
    "len(tr.TripType.unique())"
   ]
  },
  {
   "cell_type": "code",
   "execution_count": 32,
   "metadata": {
    "collapsed": false
   },
   "outputs": [
    {
     "data": {
      "text/plain": [
       "40    0.269165\n",
       "39    0.147598\n",
       "37    0.060202\n",
       "38    0.045692\n",
       "25    0.042669\n",
       "7     0.035853\n",
       "8     0.035305\n",
       "36    0.033985\n",
       "44    0.031565\n",
       "42    0.030087\n",
       "dtype: float64"
      ]
     },
     "execution_count": 32,
     "metadata": {},
     "output_type": "execute_result"
    }
   ],
   "source": [
    "(tr.TripType.value_counts()/(1.0*len(tr))).head(10)"
   ]
  },
  {
   "cell_type": "code",
   "execution_count": 43,
   "metadata": {
    "collapsed": false
   },
   "outputs": [
    {
     "data": {
      "text/plain": [
       "Sunday       0.207054\n",
       "Saturday     0.188695\n",
       "Friday       0.148746\n",
       "Monday       0.128475\n",
       "Tuesday      0.112091\n",
       "Wednesday    0.109906\n",
       "Thursday     0.105033\n",
       "dtype: float64"
      ]
     },
     "execution_count": 43,
     "metadata": {},
     "output_type": "execute_result"
    }
   ],
   "source": [
    "(tr.Weekday.value_counts()/(1.0*len(tr)))"
   ]
  },
  {
   "cell_type": "code",
   "execution_count": 47,
   "metadata": {
    "collapsed": false
   },
   "outputs": [
    {
     "data": {
      "image/png": "[encoded data removed]",
      "text/plain": [
       "<matplotlib.figure.Figure at 0x112ecba50>"
      ]
     },
     "metadata": {},
     "output_type": "display_data"
    }
   ],
   "source": [
    "_ = plt.plot((tr.Weekday.value_counts()/(1.0*len(tr))))\n",
    "_ =plt.ylim(ymin=0)"
   ]
  },
  {
   "cell_type": "code",
   "execution_count": 51,
   "metadata": {
    "collapsed": false
   },
   "outputs": [
    {
     "data": {
      "text/plain": [
       "39"
      ]
     },
     "execution_count": 51,
     "metadata": {},
     "output_type": "execute_result"
    }
   ],
   "source": [
    "len(tr.ScanCount.unique())"
   ]
  },
  {
   "cell_type": "code",
   "execution_count": 34,
   "metadata": {
    "collapsed": false
   },
   "outputs": [
    {
     "data": {
      "text/plain": [
       " 1    0.867762\n",
       " 2    0.081913\n",
       "-1    0.022245\n",
       " 3    0.014597\n",
       " 4    0.007010\n",
       " 5    0.002133\n",
       " 6    0.001338\n",
       "-2    0.001258\n",
       " 8    0.000380\n",
       " 7    0.000352\n",
       "dtype: float64"
      ]
     },
     "execution_count": 34,
     "metadata": {},
     "output_type": "execute_result"
    }
   ],
   "source": [
    "(tr.ScanCount.value_counts()/(1.0*len(tr))).head(10)"
   ]
  },
  {
   "cell_type": "code",
   "execution_count": 41,
   "metadata": {
    "collapsed": false
   },
   "outputs": [
    {
     "data": {
      "image/png": "[encoded data removed]",
      "text/plain": [
       "<matplotlib.figure.Figure at 0x113c671d0>"
      ]
     },
     "metadata": {},
     "output_type": "display_data"
    }
   ],
   "source": [
    "_ = plt.plot((tr.ScanCount.value_counts()/(1.0*len(tr))).head(10))"
   ]
  },
  {
   "cell_type": "code",
   "execution_count": 48,
   "metadata": {
    "collapsed": false
   },
   "outputs": [
    {
     "data": {
      "image/png": "[encoded data removed]",
      "text/plain": [
       "<matplotlib.figure.Figure at 0x113ac0450>"
      ]
     },
     "metadata": {},
     "output_type": "display_data"
    }
   ],
   "source": [
    "_ = plt.hist(tr.ScanCount, bins=100, range=(-5, 10))\n",
    "_ =plt.ylim(ymax=100000)"
   ]
  },
  {
   "cell_type": "code",
   "execution_count": 52,
   "metadata": {
    "collapsed": false
   },
   "outputs": [
    {
     "data": {
      "text/plain": [
       "69"
      ]
     },
     "execution_count": 52,
     "metadata": {},
     "output_type": "execute_result"
    }
   ],
   "source": [
    "len(tr.DepartmentDescription.unique())"
   ]
  },
  {
   "cell_type": "code",
   "execution_count": 36,
   "metadata": {
    "collapsed": false
   },
   "outputs": [
    {
     "data": {
      "text/plain": [
       "GROCERY DRY GOODS           0.108804\n",
       "DSD GROCERY                 0.105605\n",
       "PRODUCE                     0.078996\n",
       "DAIRY                       0.067722\n",
       "PERSONAL CARE               0.064862\n",
       "IMPULSE MERCHANDISE         0.044373\n",
       "HOUSEHOLD CHEMICALS/SUPP    0.038451\n",
       "PHARMACY OTC                0.036019\n",
       "FROZEN FOODS                0.032611\n",
       "HOUSEHOLD PAPER GOODS       0.025151\n",
       "dtype: float64"
      ]
     },
     "execution_count": 36,
     "metadata": {},
     "output_type": "execute_result"
    }
   ],
   "source": [
    "(tr.DepartmentDescription.value_counts()/(1.0*len(tr))).head(10)"
   ]
  },
  {
   "cell_type": "code",
   "execution_count": 39,
   "metadata": {
    "collapsed": false
   },
   "outputs": [
    {
     "data": {
      "image/png": "[encoded data removed]",
      "text/plain": [
       "<matplotlib.figure.Figure at 0x112a51c10>"
      ]
     },
     "metadata": {},
     "output_type": "display_data"
    }
   ],
   "source": [
    "_ = plt.plot((tr.DepartmentDescription.value_counts()/(1.0*len(tr))).head(30))"
   ]
  },
  {
   "cell_type": "code",
   "execution_count": 53,
   "metadata": {
    "collapsed": false
   },
   "outputs": [
    {
     "data": {
      "text/plain": [
       "5196"
      ]
     },
     "execution_count": 53,
     "metadata": {},
     "output_type": "execute_result"
    }
   ],
   "source": [
    "len(tr.FinelineNumber.unique())"
   ]
  },
  {
   "cell_type": "code",
   "execution_count": 37,
   "metadata": {
    "collapsed": false
   },
   "outputs": [
    {
     "data": {
      "text/plain": [
       "5501    0.012741\n",
       "1508    0.007914\n",
       "135     0.007013\n",
       "808     0.006802\n",
       "0       0.005930\n",
       "9546    0.004632\n",
       "1407    0.004401\n",
       "4606    0.004255\n",
       "115     0.004208\n",
       "203     0.004078\n",
       "dtype: float64"
      ]
     },
     "execution_count": 37,
     "metadata": {},
     "output_type": "execute_result"
    }
   ],
   "source": [
    "(tr.FinelineNumber.value_counts()/(1.0*len(tr))).head(10)"
   ]
  },
  {
   "cell_type": "code",
   "execution_count": 54,
   "metadata": {
    "collapsed": false
   },
   "outputs": [
    {
     "data": {
      "text/plain": [
       "97715"
      ]
     },
     "execution_count": 54,
     "metadata": {},
     "output_type": "execute_result"
    }
   ],
   "source": [
    "len(tr.Upc.unique())"
   ]
  }
 ],
 "metadata": {
  "kernelspec": {
   "display_name": "Python 2",
   "language": "python",
   "name": "python2"
  },
  "language_info": {
   "codemirror_mode": {
    "name": "ipython",
    "version": 2
   },
   "file_extension": ".py",
   "mimetype": "text/x-python",
   "name": "python",
   "nbconvert_exporter": "python",
   "pygments_lexer": "ipython2",
   "version": "2.7.10"
  }
 },
 "nbformat": 4,
 "nbformat_minor": 0
}
